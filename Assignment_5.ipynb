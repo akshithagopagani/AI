{
  "nbformat": 4,
  "nbformat_minor": 0,
  "metadata": {
    "colab": {
      "name": "Assignment-5.ipynb",
      "provenance": [],
      "authorship_tag": "ABX9TyPZn8Op/70cGWrIcY+fxcYu",
      "include_colab_link": true
    },
    "kernelspec": {
      "name": "python3",
      "display_name": "Python 3"
    },
    "language_info": {
      "name": "python"
    }
  },
  "cells": [
    {
      "cell_type": "markdown",
      "metadata": {
        "id": "view-in-github",
        "colab_type": "text"
      },
      "source": [
        "<a href=\"https://colab.research.google.com/github/akshithagopagani/AI/blob/main/Assignment_5.ipynb\" target=\"_parent\"><img src=\"https://colab.research.google.com/assets/colab-badge.svg\" alt=\"Open In Colab\"/></a>"
      ]
    },
    {
      "cell_type": "markdown",
      "metadata": {
        "id": "npEO6L7LFu2-"
      },
      "source": [
        "ASSIGNMENT-5"
      ]
    },
    {
      "cell_type": "markdown",
      "metadata": {
        "id": "_9F67AtjFymh"
      },
      "source": [
        "Mount Drive"
      ]
    },
    {
      "cell_type": "code",
      "metadata": {
        "id": "PjKmCJhYF1fM"
      },
      "source": [
        ""
      ],
      "execution_count": null,
      "outputs": []
    },
    {
      "cell_type": "code",
      "metadata": {
        "colab": {
          "base_uri": "https://localhost:8080/"
        },
        "id": "5oqoSiJOF9l0",
        "outputId": "9a000ddc-5df4-430d-8851-0baad6b03cd2"
      },
      "source": [
        "from google.colab import drive\n",
        "drive.mount('/content/drive')"
      ],
      "execution_count": 1,
      "outputs": [
        {
          "output_type": "stream",
          "name": "stdout",
          "text": [
            "Mounted at /content/drive\n"
          ]
        }
      ]
    },
    {
      "cell_type": "markdown",
      "metadata": {
        "id": "SdyVDqhdGQd0"
      },
      "source": [
        "Importing libraries"
      ]
    },
    {
      "cell_type": "code",
      "metadata": {
        "id": "RcRKPQFAGUQ-"
      },
      "source": [
        "import numpy as np\n",
        "import random\n",
        "import pandas as pd\n",
        "import math\n",
        "from sklearn.metrics import mean_squared_error \n",
        "from sklearn.metrics import mean_absolute_error\n",
        "from sklearn import metrics"
      ],
      "execution_count": 2,
      "outputs": []
    },
    {
      "cell_type": "markdown",
      "metadata": {
        "id": "gzj03BQxGbit"
      },
      "source": [
        "Load Data"
      ]
    },
    {
      "cell_type": "code",
      "metadata": {
        "colab": {
          "base_uri": "https://localhost:8080/",
          "height": 203
        },
        "id": "2lZ1KHdRGcr4",
        "outputId": "f678d9c5-dce6-4f77-f0fb-b7b6e3eb1bad"
      },
      "source": [
        "data = pd.read_csv('/content/drive/MyDrive/data1-5.csv')\n",
        "data.head()"
      ],
      "execution_count": 5,
      "outputs": [
        {
          "output_type": "execute_result",
          "data": {
            "text/html": [
              "<div>\n",
              "<style scoped>\n",
              "    .dataframe tbody tr th:only-of-type {\n",
              "        vertical-align: middle;\n",
              "    }\n",
              "\n",
              "    .dataframe tbody tr th {\n",
              "        vertical-align: top;\n",
              "    }\n",
              "\n",
              "    .dataframe thead th {\n",
              "        text-align: right;\n",
              "    }\n",
              "</style>\n",
              "<table border=\"1\" class=\"dataframe\">\n",
              "  <thead>\n",
              "    <tr style=\"text-align: right;\">\n",
              "      <th></th>\n",
              "      <th>X1</th>\n",
              "      <th>X2</th>\n",
              "      <th>X3</th>\n",
              "      <th>Y</th>\n",
              "    </tr>\n",
              "  </thead>\n",
              "  <tbody>\n",
              "    <tr>\n",
              "      <th>0</th>\n",
              "      <td>5551.82208</td>\n",
              "      <td>4983.17184</td>\n",
              "      <td>4888.39680</td>\n",
              "      <td>5072.95872</td>\n",
              "    </tr>\n",
              "    <tr>\n",
              "      <th>1</th>\n",
              "      <td>4983.17184</td>\n",
              "      <td>4888.39680</td>\n",
              "      <td>5072.95872</td>\n",
              "      <td>5196.25980</td>\n",
              "    </tr>\n",
              "    <tr>\n",
              "      <th>2</th>\n",
              "      <td>4888.39680</td>\n",
              "      <td>5072.95872</td>\n",
              "      <td>5196.25980</td>\n",
              "      <td>5641.29720</td>\n",
              "    </tr>\n",
              "    <tr>\n",
              "      <th>3</th>\n",
              "      <td>5072.95872</td>\n",
              "      <td>5196.25980</td>\n",
              "      <td>5641.29720</td>\n",
              "      <td>7153.17732</td>\n",
              "    </tr>\n",
              "    <tr>\n",
              "      <th>4</th>\n",
              "      <td>5196.25980</td>\n",
              "      <td>5641.29720</td>\n",
              "      <td>7153.17732</td>\n",
              "      <td>7849.80504</td>\n",
              "    </tr>\n",
              "  </tbody>\n",
              "</table>\n",
              "</div>"
            ],
            "text/plain": [
              "           X1          X2          X3           Y\n",
              "0  5551.82208  4983.17184  4888.39680  5072.95872\n",
              "1  4983.17184  4888.39680  5072.95872  5196.25980\n",
              "2  4888.39680  5072.95872  5196.25980  5641.29720\n",
              "3  5072.95872  5196.25980  5641.29720  7153.17732\n",
              "4  5196.25980  5641.29720  7153.17732  7849.80504"
            ]
          },
          "metadata": {},
          "execution_count": 5
        }
      ]
    },
    {
      "cell_type": "markdown",
      "metadata": {
        "id": "xjvj_bTEGy6h"
      },
      "source": [
        "Outliers Detection"
      ]
    },
    {
      "cell_type": "code",
      "metadata": {
        "id": "ZsT8VnNJG12C"
      },
      "source": [
        "outliers = []\n",
        "def detect_outliers_zscore(data):\n",
        "    thres = 3\n",
        "    mean = np.mean(data)\n",
        "    std = np.std(data)\n",
        "    # print(mean, std)\n",
        "    for i in data:\n",
        "        z_score = (i-mean)/std\n",
        "        if (np.abs(z_score) > thres):\n",
        "            outliers.append(i)\n",
        "    return outliers # Driver code"
      ],
      "execution_count": 6,
      "outputs": []
    },
    {
      "cell_type": "code",
      "metadata": {
        "colab": {
          "base_uri": "https://localhost:8080/"
        },
        "id": "vIYPGi44G87Z",
        "outputId": "3082b718-c774-4e6c-ac85-3d674aef4b07"
      },
      "source": [
        "sample_outliers_X1 = detect_outliers_zscore(data['X1'])\n",
        "sample_outliers_X2 = detect_outliers_zscore(data['X2'])\n",
        "sample_outliers_X3 = detect_outliers_zscore(data['X3'])\n",
        "sample_outliers_Y = detect_outliers_zscore(data['Y'])\n",
        "print(\"Outliers in X1 column from Z-scores method : \", sample_outliers_X1)\n",
        "print(\"Outliers in X2 column from Z-scores method : \", sample_outliers_X2)\n",
        "print(\"Outliers in X3 column from Z-scores method : \", sample_outliers_X3)\n",
        "print(\"Outliers in Y column from Z-scores method : \", sample_outliers_Y)"
      ],
      "execution_count": 7,
      "outputs": [
        {
          "output_type": "stream",
          "name": "stdout",
          "text": [
            "Outliers in X1 column from Z-scores method :  []\n",
            "Outliers in X2 column from Z-scores method :  []\n",
            "Outliers in X3 column from Z-scores method :  []\n",
            "Outliers in Y column from Z-scores method :  []\n"
          ]
        }
      ]
    },
    {
      "cell_type": "markdown",
      "metadata": {
        "id": "iKo4blNwHBwk"
      },
      "source": [
        "Missing Values Treatement"
      ]
    },
    {
      "cell_type": "code",
      "metadata": {
        "colab": {
          "base_uri": "https://localhost:8080/"
        },
        "id": "5Ns82OTvHCyw",
        "outputId": "83462311-8e1b-4a5d-fc40-f1d88cab5348"
      },
      "source": [
        "print(data.isnull().sum())"
      ],
      "execution_count": 8,
      "outputs": [
        {
          "output_type": "stream",
          "name": "stdout",
          "text": [
            "X1    0\n",
            "X2    0\n",
            "X3    0\n",
            "Y     0\n",
            "dtype: int64\n"
          ]
        }
      ]
    },
    {
      "cell_type": "code",
      "metadata": {
        "colab": {
          "base_uri": "https://localhost:8080/",
          "height": 203
        },
        "id": "jG8qwZW3HJ0a",
        "outputId": "afeecc0e-bc21-4d94-f226-97bb79019367"
      },
      "source": [
        "def normalize(column):\n",
        "    c_max, c_min = np.max(column), np.min(column)\n",
        "    for i in range(len(column)):\n",
        "        column.iloc[i] = (column.iloc[i] - c_min) / (c_max - c_min)\n",
        "    return c_max, c_min\n",
        "x1max, x1min = normalize(data['X1'])\n",
        "x2max, x2min = normalize(data['X2'])\n",
        "x3max, x3min = normalize(data['X3'])\n",
        "ymax, ymin = normalize(data['Y'])\n",
        "data.head()"
      ],
      "execution_count": 9,
      "outputs": [
        {
          "output_type": "execute_result",
          "data": {
            "text/html": [
              "<div>\n",
              "<style scoped>\n",
              "    .dataframe tbody tr th:only-of-type {\n",
              "        vertical-align: middle;\n",
              "    }\n",
              "\n",
              "    .dataframe tbody tr th {\n",
              "        vertical-align: top;\n",
              "    }\n",
              "\n",
              "    .dataframe thead th {\n",
              "        text-align: right;\n",
              "    }\n",
              "</style>\n",
              "<table border=\"1\" class=\"dataframe\">\n",
              "  <thead>\n",
              "    <tr style=\"text-align: right;\">\n",
              "      <th></th>\n",
              "      <th>X1</th>\n",
              "      <th>X2</th>\n",
              "      <th>X3</th>\n",
              "      <th>Y</th>\n",
              "    </tr>\n",
              "  </thead>\n",
              "  <tbody>\n",
              "    <tr>\n",
              "      <th>0</th>\n",
              "      <td>0.397877</td>\n",
              "      <td>0.293800</td>\n",
              "      <td>0.276454</td>\n",
              "      <td>0.310234</td>\n",
              "    </tr>\n",
              "    <tr>\n",
              "      <th>1</th>\n",
              "      <td>0.293800</td>\n",
              "      <td>0.276454</td>\n",
              "      <td>0.310234</td>\n",
              "      <td>0.332801</td>\n",
              "    </tr>\n",
              "    <tr>\n",
              "      <th>2</th>\n",
              "      <td>0.276454</td>\n",
              "      <td>0.310234</td>\n",
              "      <td>0.332801</td>\n",
              "      <td>0.414254</td>\n",
              "    </tr>\n",
              "    <tr>\n",
              "      <th>3</th>\n",
              "      <td>0.310234</td>\n",
              "      <td>0.332801</td>\n",
              "      <td>0.414254</td>\n",
              "      <td>0.690965</td>\n",
              "    </tr>\n",
              "    <tr>\n",
              "      <th>4</th>\n",
              "      <td>0.332801</td>\n",
              "      <td>0.414254</td>\n",
              "      <td>0.690965</td>\n",
              "      <td>0.818465</td>\n",
              "    </tr>\n",
              "  </tbody>\n",
              "</table>\n",
              "</div>"
            ],
            "text/plain": [
              "         X1        X2        X3         Y\n",
              "0  0.397877  0.293800  0.276454  0.310234\n",
              "1  0.293800  0.276454  0.310234  0.332801\n",
              "2  0.276454  0.310234  0.332801  0.414254\n",
              "3  0.310234  0.332801  0.414254  0.690965\n",
              "4  0.332801  0.414254  0.690965  0.818465"
            ]
          },
          "metadata": {},
          "execution_count": 9
        }
      ]
    },
    {
      "cell_type": "code",
      "metadata": {
        "colab": {
          "base_uri": "https://localhost:8080/",
          "height": 418
        },
        "id": "N7VaX5OmHOvi",
        "outputId": "7a5918ee-af94-4fe4-8223-802049152e59"
      },
      "source": [
        "m1=data['X1'].mean()\n",
        "m2=data['X2'].mean()\n",
        "m3=data['X3'].mean()\n",
        "m4=data['Y'].mean()\n",
        "data['X1'].fillna(value=m1, inplace=True)\n",
        "data['X2'].fillna(value=m2, inplace=True)\n",
        "data['X3'].fillna(value=m3, inplace=True)\n",
        "data['Y'].fillna(value=m4, inplace=True)\n",
        "data"
      ],
      "execution_count": 10,
      "outputs": [
        {
          "output_type": "execute_result",
          "data": {
            "text/html": [
              "<div>\n",
              "<style scoped>\n",
              "    .dataframe tbody tr th:only-of-type {\n",
              "        vertical-align: middle;\n",
              "    }\n",
              "\n",
              "    .dataframe tbody tr th {\n",
              "        vertical-align: top;\n",
              "    }\n",
              "\n",
              "    .dataframe thead th {\n",
              "        text-align: right;\n",
              "    }\n",
              "</style>\n",
              "<table border=\"1\" class=\"dataframe\">\n",
              "  <thead>\n",
              "    <tr style=\"text-align: right;\">\n",
              "      <th></th>\n",
              "      <th>X1</th>\n",
              "      <th>X2</th>\n",
              "      <th>X3</th>\n",
              "      <th>Y</th>\n",
              "    </tr>\n",
              "  </thead>\n",
              "  <tbody>\n",
              "    <tr>\n",
              "      <th>0</th>\n",
              "      <td>0.397877</td>\n",
              "      <td>0.293800</td>\n",
              "      <td>0.276454</td>\n",
              "      <td>0.310234</td>\n",
              "    </tr>\n",
              "    <tr>\n",
              "      <th>1</th>\n",
              "      <td>0.293800</td>\n",
              "      <td>0.276454</td>\n",
              "      <td>0.310234</td>\n",
              "      <td>0.332801</td>\n",
              "    </tr>\n",
              "    <tr>\n",
              "      <th>2</th>\n",
              "      <td>0.276454</td>\n",
              "      <td>0.310234</td>\n",
              "      <td>0.332801</td>\n",
              "      <td>0.414254</td>\n",
              "    </tr>\n",
              "    <tr>\n",
              "      <th>3</th>\n",
              "      <td>0.310234</td>\n",
              "      <td>0.332801</td>\n",
              "      <td>0.414254</td>\n",
              "      <td>0.690965</td>\n",
              "    </tr>\n",
              "    <tr>\n",
              "      <th>4</th>\n",
              "      <td>0.332801</td>\n",
              "      <td>0.414254</td>\n",
              "      <td>0.690965</td>\n",
              "      <td>0.818465</td>\n",
              "    </tr>\n",
              "    <tr>\n",
              "      <th>...</th>\n",
              "      <td>...</td>\n",
              "      <td>...</td>\n",
              "      <td>...</td>\n",
              "      <td>...</td>\n",
              "    </tr>\n",
              "    <tr>\n",
              "      <th>2176</th>\n",
              "      <td>0.354626</td>\n",
              "      <td>0.350803</td>\n",
              "      <td>0.305212</td>\n",
              "      <td>0.228524</td>\n",
              "    </tr>\n",
              "    <tr>\n",
              "      <th>2177</th>\n",
              "      <td>0.350803</td>\n",
              "      <td>0.305212</td>\n",
              "      <td>0.228524</td>\n",
              "      <td>0.217797</td>\n",
              "    </tr>\n",
              "    <tr>\n",
              "      <th>2178</th>\n",
              "      <td>0.305212</td>\n",
              "      <td>0.228524</td>\n",
              "      <td>0.217797</td>\n",
              "      <td>0.246298</td>\n",
              "    </tr>\n",
              "    <tr>\n",
              "      <th>2179</th>\n",
              "      <td>0.228524</td>\n",
              "      <td>0.217797</td>\n",
              "      <td>0.246298</td>\n",
              "      <td>0.324384</td>\n",
              "    </tr>\n",
              "    <tr>\n",
              "      <th>2180</th>\n",
              "      <td>0.217797</td>\n",
              "      <td>0.246298</td>\n",
              "      <td>0.324384</td>\n",
              "      <td>0.651650</td>\n",
              "    </tr>\n",
              "  </tbody>\n",
              "</table>\n",
              "<p>2181 rows × 4 columns</p>\n",
              "</div>"
            ],
            "text/plain": [
              "            X1        X2        X3         Y\n",
              "0     0.397877  0.293800  0.276454  0.310234\n",
              "1     0.293800  0.276454  0.310234  0.332801\n",
              "2     0.276454  0.310234  0.332801  0.414254\n",
              "3     0.310234  0.332801  0.414254  0.690965\n",
              "4     0.332801  0.414254  0.690965  0.818465\n",
              "...        ...       ...       ...       ...\n",
              "2176  0.354626  0.350803  0.305212  0.228524\n",
              "2177  0.350803  0.305212  0.228524  0.217797\n",
              "2178  0.305212  0.228524  0.217797  0.246298\n",
              "2179  0.228524  0.217797  0.246298  0.324384\n",
              "2180  0.217797  0.246298  0.324384  0.651650\n",
              "\n",
              "[2181 rows x 4 columns]"
            ]
          },
          "metadata": {},
          "execution_count": 10
        }
      ]
    },
    {
      "cell_type": "code",
      "metadata": {
        "colab": {
          "base_uri": "https://localhost:8080/"
        },
        "id": "nvOrcz4sHTJt",
        "outputId": "79befefb-d464-4446-b752-e030a529fe26"
      },
      "source": [
        "from sklearn.model_selection import train_test_split\n",
        "dataframe = data.values\n",
        "X, y = dataframe[:, :-1], dataframe[:, -1]\n",
        "x_train, x_test, y_train, y_test = train_test_split(X, y, test_size = 0.20, random_state = 10)\n",
        "x_train"
      ],
      "execution_count": 11,
      "outputs": [
        {
          "output_type": "execute_result",
          "data": {
            "text/plain": [
              "array([[0.32324327, 0.58058258, 0.62138027],\n",
              "       [0.63507461, 0.41339762, 0.35314256],\n",
              "       [0.64848364, 0.60414824, 0.51333771],\n",
              "       ...,\n",
              "       [0.61011098, 0.44563636, 0.4770192 ],\n",
              "       [0.22641294, 0.17160709, 0.20062195],\n",
              "       [0.4363071 , 0.41339762, 0.37793501]])"
            ]
          },
          "metadata": {},
          "execution_count": 11
        }
      ]
    },
    {
      "cell_type": "code",
      "metadata": {
        "id": "b37_yikTHXzO"
      },
      "source": [
        "m1=random.uniform(-10,10)\n",
        "m2=random.uniform(-10,10)\n",
        "m3=random.uniform(-10,10)\n",
        "c=random.uniform(-10,10)\n",
        "eta=0.01\n",
        "max_iter=1000"
      ],
      "execution_count": 12,
      "outputs": []
    },
    {
      "cell_type": "code",
      "metadata": {
        "id": "_DvKDz0qHdK0"
      },
      "source": [
        "def gradient(m1,m2,m3,c,x1,x2,x3,y):\n",
        "  m1_deriv=-1*(y-m1*x1-m2*x2-m3*x3-c)*x1\n",
        "  m2_deriv=-1*(y-m1*x1-m2*x2-m3*x3-c)*x2\n",
        "  m3_deriv=-1*(y-m1*x1-m2*x2-m3*x3-c)*x3\n",
        "  c_deriv=-1*(y-m1*x1-m2*x2-m3*x3-c)\n",
        "  return m1_deriv,m2_deriv,m3_deriv,c_deriv"
      ],
      "execution_count": 13,
      "outputs": []
    },
    {
      "cell_type": "code",
      "metadata": {
        "colab": {
          "base_uri": "https://localhost:8080/"
        },
        "id": "B-dFg6N7Hehu",
        "outputId": "10bf88ac-3cd4-49db-e379-7d412b7b8dba"
      },
      "source": [
        "for iter in range(max_iter):\n",
        "  for sample in range(x_train.shape[0]):\n",
        "    del_m1,del_m2,del_m3,del_c=gradient(m1,m2,m3,c,x_train[sample,0],x_train[sample,1],x_train[sample,2],y_train[sample])\n",
        "    m1=m1-eta*del_m1\n",
        "    m2=m2-eta*del_m2\n",
        "    m3=m3-eta*del_m3\n",
        "    c=c-eta*del_c\n",
        "print('Model parameters m1, m2, m3 and c : ',m1,m2,c)"
      ],
      "execution_count": 14,
      "outputs": [
        {
          "output_type": "stream",
          "name": "stdout",
          "text": [
            "Model parameters m1, m2, m3 and c :  -0.21748361014645906 0.041550607301544355 0.1538395878338858\n"
          ]
        }
      ]
    },
    {
      "cell_type": "code",
      "metadata": {
        "id": "lPbUWO15HpqJ"
      },
      "source": [
        "y_pred_train = []\n",
        "for sample in range(x_train.shape[0]):\n",
        "  x1=x_train[sample,0]\n",
        "  x2=x_train[sample,1]\n",
        "  x3=x_train[sample,2] \n",
        "  y=y_train[sample]\n",
        "  y_p_tr = (m1 * x1) + (m2 * x2) + (m3 * x3) + c\n",
        "  y_pred_train.append(y_p_tr)\n",
        "y_pred_train = np.array(y_pred_train)"
      ],
      "execution_count": 15,
      "outputs": []
    },
    {
      "cell_type": "code",
      "metadata": {
        "id": "KwTUkpvrHuJw"
      },
      "source": [
        "y_pred_test = []\n",
        "for sample in range(x_test.shape[0]):\n",
        "  x1=x_test[sample,0]\n",
        "  x2=x_test[sample,1]\n",
        "  x3=x_test[sample,2] \n",
        "  y=y_test[sample]\n",
        "  y_p_te = (m1 * x1) + (m2 * x2) + (m3 * x3) + c\n",
        "  y_pred_test.append(y_p_te)\n",
        "y_pred_test = np.array(y_pred_test)"
      ],
      "execution_count": 16,
      "outputs": []
    },
    {
      "cell_type": "code",
      "metadata": {
        "colab": {
          "base_uri": "https://localhost:8080/"
        },
        "id": "pm7ndDOgHzkz",
        "outputId": "42c5a49e-5318-4111-f2e4-85e35f80abcd"
      },
      "source": [
        "#Training Accuracies\n",
        "mse = mean_squared_error(y_train, y_pred_train) \n",
        "print('Mean Square Error', mse)\n",
        "rmse = math.sqrt(mean_squared_error(y_train, y_pred_train)) \n",
        "print('Root Mean Square Error', rmse)\n",
        "mae=mean_absolute_error(y_train, y_pred_train)\n",
        "print('Mean Absolute Error', mae)"
      ],
      "execution_count": 17,
      "outputs": [
        {
          "output_type": "stream",
          "name": "stdout",
          "text": [
            "Mean Square Error 0.013909085207057836\n",
            "Root Mean Square Error 0.11793678479192926\n",
            "Mean Absolute Error 0.08157461836796978\n"
          ]
        }
      ]
    },
    {
      "cell_type": "code",
      "metadata": {
        "colab": {
          "base_uri": "https://localhost:8080/"
        },
        "id": "CbYIWmUhH3-x",
        "outputId": "27f83e4d-bf85-4c71-b213-307e90d36722"
      },
      "source": [
        "#Testing Accuracies\n",
        "mse = mean_squared_error(y_test, y_pred_test)\n",
        "print('Mean Square Error', mse)\n",
        "rmse = math.sqrt(mean_squared_error(y_test, y_pred_test)) \n",
        "print('Root Mean Square Error', mse) \n",
        "mae=mean_absolute_error(y_test, y_pred_test)\n",
        "print('Mean Absolute Error', mae)"
      ],
      "execution_count": 18,
      "outputs": [
        {
          "output_type": "stream",
          "name": "stdout",
          "text": [
            "Mean Square Error 0.01281352108292449\n",
            "Root Mean Square Error 0.01281352108292449\n",
            "Mean Absolute Error 0.08077037730340854\n"
          ]
        }
      ]
    },
    {
      "cell_type": "code",
      "metadata": {
        "colab": {
          "base_uri": "https://localhost:8080/"
        },
        "id": "lIi-ltcvH9DN",
        "outputId": "3a5a937a-4874-495d-e967-921dc3031031"
      },
      "source": [
        "X1=input('Enter Load Value at Time T1: ')\n",
        "X2=input('Enter Load Value at Time T2: ')\n",
        "X3=input('Enter Load Value at Time T3: ')\n",
        "Y=m1*float(X1)+m2*float(X2)+m3*float(X3)+c\n",
        "print('Power Load at Time T : ',Y)"
      ],
      "execution_count": 19,
      "outputs": [
        {
          "output_type": "stream",
          "name": "stdout",
          "text": [
            "Enter Load Value at Time T1: 9\n",
            "Enter Load Value at Time T2: 2\n",
            "Enter Load Value at Time T3: 4\n",
            "Power Load at Time T :  1.7175954706665446\n"
          ]
        }
      ]
    }
  ]
}