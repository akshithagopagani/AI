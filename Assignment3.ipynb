{
  "nbformat": 4,
  "nbformat_minor": 0,
  "metadata": {
    "colab": {
      "name": "Assignment3.ipynb",
      "provenance": [],
      "authorship_tag": "ABX9TyMwQeEKLIFI75URMS5FV7jM",
      "include_colab_link": true
    },
    "kernelspec": {
      "name": "python3",
      "display_name": "Python 3"
    },
    "language_info": {
      "name": "python"
    }
  },
  "cells": [
    {
      "cell_type": "markdown",
      "metadata": {
        "id": "view-in-github",
        "colab_type": "text"
      },
      "source": [
        "<a href=\"https://colab.research.google.com/github/akshithagopagani/AI/blob/main/Assignment3.ipynb\" target=\"_parent\"><img src=\"https://colab.research.google.com/assets/colab-badge.svg\" alt=\"Open In Colab\"/></a>"
      ]
    },
    {
      "cell_type": "code",
      "metadata": {
        "colab": {
          "base_uri": "https://localhost:8080/"
        },
        "id": "8aB83JbCn9bV",
        "outputId": "cd402623-6833-49e9-a9b4-14b3f25fbb18"
      },
      "source": [
        "import numpy as np\n",
        "import math\n",
        "x=np.random.uniform(-100,100)\n",
        "y=np.random.uniform(-100,100)\n",
        "eta=0.001\n",
        "iter_max=10000\n",
        "i=1\n",
        "while i<=iter_max:\n",
        "   slope1 = 6*x\n",
        "   slope2 = -5*math.exp(-y)\n",
        "   steplength1= -eta*slope1\n",
        "   steplength2= -eta*slope2\n",
        "   x=x+ steplength1\n",
        "   y=y+ steplength2\n",
        "   i=i+1\n",
        "print(\"x : \",round(x))\n",
        "print(\"y : \",round(y))\n",
        "obj=3 * x*x+5* math.exp(-y)+10\n",
        "print(\"objective function  :\",obj)"
      ],
      "execution_count": 1,
      "outputs": [
        {
          "output_type": "stream",
          "name": "stdout",
          "text": [
            "x :  0\n",
            "y :  34\n",
            "objective function  : 10.000000000000014\n"
          ]
        }
      ]
    }
  ]
}