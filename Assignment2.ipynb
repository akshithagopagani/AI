{
  "nbformat": 4,
  "nbformat_minor": 0,
  "metadata": {
    "colab": {
      "name": "Assignment2.ipynb",
      "provenance": [],
      "authorship_tag": "ABX9TyMz/yWszscYxXKLkYyIA19L",
      "include_colab_link": true
    },
    "kernelspec": {
      "name": "python3",
      "display_name": "Python 3"
    },
    "language_info": {
      "name": "python"
    }
  },
  "cells": [
    {
      "cell_type": "markdown",
      "metadata": {
        "id": "view-in-github",
        "colab_type": "text"
      },
      "source": [
        "<a href=\"https://colab.research.google.com/github/akshithagopagani/AI/blob/main/Assignment2.ipynb\" target=\"_parent\"><img src=\"https://colab.research.google.com/assets/colab-badge.svg\" alt=\"Open In Colab\"/></a>"
      ]
    },
    {
      "cell_type": "code",
      "metadata": {
        "colab": {
          "base_uri": "https://localhost:8080/"
        },
        "id": "M9e07ADQfj4V",
        "outputId": "7a05a0b7-232b-4601-e369-f21edb93a7c8"
      },
      "source": [
        "import numpy as np\n",
        "x=np.random.uniform(-10,10)\n",
        "eta=0.001\n",
        "iter_max=1000\n",
        "iter=1\n",
        "while iter<=iter_max:\n",
        "  slope=4*x*x*x + 6*x\n",
        "  step_length=-eta*slope\n",
        "  x=x+step_length\n",
        "  iter=iter+1\n",
        "print(\"value of x :\",round(x))\n",
        "obj=x*x*x*x+3*x*x+10\n",
        "print(\"objective function =\",obj)"
      ],
      "execution_count": 1,
      "outputs": [
        {
          "output_type": "stream",
          "name": "stdout",
          "text": [
            "value of x : 0\n",
            "objective function = 10.000024501520908\n"
          ]
        }
      ]
    },
    {
      "cell_type": "markdown",
      "metadata": {
        "id": "2JVktw_KgkK6"
      },
      "source": [
        ""
      ]
    }
  ]
}