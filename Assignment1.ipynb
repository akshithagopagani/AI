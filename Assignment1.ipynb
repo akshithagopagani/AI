{
  "nbformat": 4,
  "nbformat_minor": 0,
  "metadata": {
    "colab": {
      "name": "Assignment1.ipynb",
      "provenance": [],
      "collapsed_sections": [],
      "authorship_tag": "ABX9TyPxzCq0QC+Ppn1/KK00+R2E",
      "include_colab_link": true
    },
    "kernelspec": {
      "name": "python3",
      "display_name": "Python 3"
    },
    "language_info": {
      "name": "python"
    }
  },
  "cells": [
    {
      "cell_type": "markdown",
      "metadata": {
        "id": "view-in-github",
        "colab_type": "text"
      },
      "source": [
        "<a href=\"https://colab.research.google.com/github/akshithagopagani/AI/blob/main/Assignment1.ipynb\" target=\"_parent\"><img src=\"https://colab.research.google.com/assets/colab-badge.svg\" alt=\"Open In Colab\"/></a>"
      ]
    },
    {
      "cell_type": "code",
      "metadata": {
        "colab": {
          "base_uri": "https://localhost:8080/"
        },
        "id": "ko1t_bJhX8pA",
        "outputId": "36e5f4f8-4448-4824-817d-5358a4bab97c"
      },
      "source": [
        "from scipy.optimize import linprog     \n",
        "obj=[-50,-120]                         #objective function\n",
        "A_ieq=[[7000,2000],[10,30],[1,1]]      #inequality Constraints coeff. matrix\n",
        "b_ieq=[700000,1200,110]                #inequality Constraints cont. matrix\n",
        "boundary=[(0,float('inf')),(0,float('inf'))]    #limits for a and b\n",
        "opt=linprog(c=obj,A_ub=A_ieq,b_ub=b_ieq,A_eq=None,b_eq=None,method=\"Simplex\")\n",
        "opt.x\n",
        "print('No. of hectares for growing wheat : ',round(opt.x[0]))\n",
        "print('No. of hectares for growing barley : ',round(opt.x[1]))\n",
        "print('maximum proft : ',round(opt.x[0])*50+round(opt.x[1])*120)"
      ],
      "execution_count": 1,
      "outputs": [
        {
          "output_type": "stream",
          "text": [
            "No. of hectares for growing wheat :  98\n",
            "No. of hectares for growing barley :  7\n",
            "maximum proft :  5740\n"
          ],
          "name": "stdout"
        }
      ]
    }
  ]
}